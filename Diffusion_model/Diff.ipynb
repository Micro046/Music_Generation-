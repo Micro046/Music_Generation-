{
 "cells": [
  {
   "cell_type": "code",
   "execution_count": 1,
   "id": "4613af34",
   "metadata": {},
   "outputs": [],
   "source": [
    "import os\n",
    "import numpy as np\n",
    "import torch\n",
    "import torch.nn as nn\n",
    "import torch.nn.functional as F\n",
    "from torch.utils.data import Dataset, DataLoader\n",
    "from diffusers import UNet2DModel, DDPMScheduler\n",
    "from matplotlib import pyplot as plt\n",
    "from pretty_midi import PrettyMIDI, Instrument, Note\n",
    "import matplotlib.pyplot as plt\n",
    "from tqdm import tqdm\n",
    "from torchvision.transforms import RandomAffine\n",
    "import urllib.request"
   ]
  },
  {
   "cell_type": "code",
   "execution_count": 2,
   "id": "1e444a1b",
   "metadata": {},
   "outputs": [
    {
     "name": "stderr",
     "output_type": "stream",
     "text": [
      "  0%|          | 0/67 [00:00<?, ?it/s]"
     ]
    },
    {
     "name": "stderr",
     "output_type": "stream",
     "text": [
      "100%|██████████| 67/67 [00:29<00:00,  2.25it/s]"
     ]
    },
    {
     "name": "stdout",
     "output_type": "stream",
     "text": [
      "🚀 Done downloading all files!\n"
     ]
    },
    {
     "name": "stderr",
     "output_type": "stream",
     "text": [
      "\n"
     ]
    }
   ],
   "source": [
    "target_dir = 'bach-cello'\n",
    "os.makedirs(target_dir, exist_ok=True)\n",
    "\n",
    "urls = [\n",
    "    \"cs1-1pre.mid\",\"cs1-2all.mid\",\"cs1-3cou.mid\",\"cs1-4sar.mid\",\"cs1-5men.mid\",\"cs1-6gig.mid\",\n",
    "    \"cs2-1pre.mid\",\"cs2-2all.mid\",\"cs2-3cou.mid\",\"cs2-4sar.mid\",\"cs2-5men.mid\",\"cs2-6gig.mid\",\n",
    "    \"cs3-1pre.mid\",\"cs3-2all.mid\",\"cs3-3cou.mid\",\"cs3-4sar.mid\",\"cs3-5bou.mid\",\"cs3-6gig.mid\",\n",
    "    \"cs4-1pre.mid\",\"cs4-2all.mid\",\"cs4-3cou.mid\",\"cs4-4sar.mid\",\"cs4-5bou.mid\",\"cs4-6gig.mid\",\n",
    "    \"cs5-1pre.mid\",\"cs5-2all.mid\",\"cs5-3cou.mid\",\"cs5-4sar.mid\",\"cs5-5gav.mid\",\"cs5-6gig.mid\",\n",
    "    \"cs6-1pre.mid\",\"cs6-2all.mid\",\"cs6-3cou.mid\",\"cs6-4sar.mid\",\"cs6-5gav.mid\",\"cs6-6gig.mid\",\n",
    "    'vs1-1ada.mid','vs1-2fug.mid', 'vs1-3sic.mid', 'vs1-4prs.mid', 'vp1-1al.mid', 'vp1-2ald.mid', \n",
    "    'vp1-3co.mid', 'vp1-4cod.mid', 'vp1-5sa.mid', 'vp1-6sad.mid', 'vp1-7tb.mid', 'vp1-8tbd.mid',\n",
    "    'vs2-1gra.mid', 'vs2-2fug.mid', 'vs2-3and.mid', 'vs2-4alg.mid', 'vp2-1all.mid', 'vp2-2cou.mid',\n",
    "    'vp2-3sar.mid', 'vp2-4gig.mid', 'vp2-5cha.mid', 'vs3-1ada.mid', 'vs3-2fug.mid', 'vs3-3lar.mid',\n",
    "    'vs3-4alg.mid', 'vp3-1pre.mid', 'vp3-2lou.mid', 'vp3-3gav.mid', 'vp3-4min.mid', 'vp3-5bou.mid',\n",
    "    'vp3-6gig.mid'\n",
    "]\n",
    "base_url = \"http://www.jsbach.net/midi\"\n",
    "\n",
    "for file in tqdm(urls):\n",
    "    url = f\"{base_url}/{file}\"\n",
    "    file_path = os.path.join(target_dir, file)\n",
    "    try:\n",
    "        urllib.request.urlretrieve(url, file_path)\n",
    "    except Exception as e:\n",
    "        print(f\"Failed to download {file}: {e}\")\n",
    "\n",
    "print(\"🚀 Done downloading all files!\")"
   ]
  },
  {
   "cell_type": "code",
   "execution_count": 16,
   "id": "42cb21a3",
   "metadata": {},
   "outputs": [],
   "source": [
    "class Config:\n",
    "    # MIDI parameters\n",
    "    pitch_range = 128  # MIDI pitch range (0-127)\n",
    "    time_steps = 200   # Number of time steps in the piano roll\n",
    "    velocity_bins = 32 # Number of velocity bins\n",
    "    \n",
    "    # Training parameters - UPDATED\n",
    "    batch_size = 4     # Increased from 4\n",
    "    num_epochs = 100   # More epochs with early stopping\n",
    "    learning_rate = 2e-5  # Lower learning rate\n",
    "    device = 'cuda' if torch.cuda.is_available() else 'cpu'\n",
    "    \n",
    "    # Diffusion parameters\n",
    "    num_diffusion_steps = 1000\n",
    "    beta_start = 1e-4\n",
    "    beta_end = 0.02\n",
    "    \n",
    "    # Model parameters - REDUCED CAPACITY\n",
    "    sample_size = (time_steps, pitch_range)\n",
    "    in_channels = 1\n",
    "    out_channels = 1\n",
    "    layers_per_block = 1  # Reduced from 2\n",
    "    block_out_channels = (32, 64, 96)  # Smaller than original\n",
    "    down_block_types = (\n",
    "        \"DownBlock2D\",\n",
    "        \"DownBlock2D\",\n",
    "        \"DownBlock2D\",\n",
    "    )\n",
    "    up_block_types = (\n",
    "        \"UpBlock2D\",\n",
    "        \"UpBlock2D\",\n",
    "        \"UpBlock2D\",\n",
    "    )\n",
    "    dropout = 0.25\n",
    "    norm_num_groups = 32\n",
    "\n",
    "config = Config()"
   ]
  },
  {
   "cell_type": "code",
   "execution_count": 17,
   "id": "4d6ba900",
   "metadata": {},
   "outputs": [],
   "source": [
    "class MIDIDataset(Dataset):\n",
    "    def __init__(self, midi_files, config):\n",
    "        self.midi_files = midi_files\n",
    "        self.config = config\n",
    "        self.durations = []\n",
    "        self.augment_transforms = RandomAffine(\n",
    "            degrees=0,  # No rotation\n",
    "            translate=(0.1, 0.1),  # Small translation in both dimensions\n",
    "            scale=(0.9, 1.1)  # Small scaling\n",
    "        )\n",
    "        \n",
    "    def augment(self, piano_roll):\n",
    "        \"\"\"Apply data augmentation to the piano roll\"\"\"\n",
    "        augmented = self.augment_transforms(piano_roll)\n",
    "        \n",
    "        # Random time stretching (small)\n",
    "        if torch.rand(1) > 0.7:\n",
    "            stretch_factor = 0.9 + 0.2 * torch.rand(1)  # Between 0.9 and 1.1\n",
    "            new_length = int(self.config.time_steps * stretch_factor)\n",
    "            augmented = F.interpolate(\n",
    "                augmented.unsqueeze(0), \n",
    "                size=(new_length, self.config.pitch_range),\n",
    "                mode='bilinear'\n",
    "            ).squeeze(0)\n",
    "            # Pad or crop to maintain original size\n",
    "            if new_length < self.config.time_steps:\n",
    "                pad_amount = self.config.time_steps - new_length\n",
    "                augmented = F.pad(augmented, (0, 0, 0, pad_amount))\n",
    "            else:\n",
    "                augmented = augmented[:, :self.config.time_steps, :]\n",
    "        \n",
    "        return augmented\n",
    "    \n",
    "    def __len__(self):\n",
    "        return len(self.midi_files)\n",
    "    \n",
    "    def __getitem__(self, idx):\n",
    "        midi_path = self.midi_files[idx]\n",
    "        try:\n",
    "            midi_data = PrettyMIDI(midi_path)\n",
    "            total_duration = midi_data.get_end_time()\n",
    "            \n",
    "            # Calculate steps per second based on desired time_steps\n",
    "            steps_per_second = self.config.time_steps / total_duration\n",
    "            \n",
    "            piano_roll = np.zeros((self.config.time_steps, self.config.pitch_range), dtype=np.float32)\n",
    "            \n",
    "            for instrument in midi_data.instruments:\n",
    "                for note in instrument.notes:\n",
    "                    start_step = int(note.start * steps_per_second)\n",
    "                    end_step = int(note.end * steps_per_second)\n",
    "                    pitch = note.pitch\n",
    "                    velocity = note.velocity\n",
    "                    \n",
    "                    start_step = np.clip(start_step, 0, self.config.time_steps-1)\n",
    "                    end_step = np.clip(end_step, 0, self.config.time_steps-1)\n",
    "                    pitch = np.clip(pitch, 0, self.config.pitch_range-1)\n",
    "                    \n",
    "                    velocity_norm = velocity / 127.0\n",
    "                    \n",
    "                    for step in range(start_step, end_step + 1):\n",
    "                        piano_roll[step, pitch] = velocity_norm\n",
    "            \n",
    "            piano_roll = torch.from_numpy(piano_roll).unsqueeze(0)\n",
    "            \n",
    "            # Apply data augmentation for small datasets\n",
    "            if len(self.midi_files) < 100:\n",
    "                if torch.rand(1) > 0.5:\n",
    "                    piano_roll = self.augment(piano_roll)\n",
    "                \n",
    "                # Random masking\n",
    "                if torch.rand(1) > 0.7:\n",
    "                    mask_width = int(self.config.time_steps * (0.1 + 0.2 * torch.rand(1)))\n",
    "                    mask_start = int((self.config.time_steps - mask_width) * torch.rand(1))\n",
    "                    piano_roll[:, mask_start:mask_start+mask_width] = 0\n",
    "            \n",
    "            piano_roll = piano_roll * 2 - 1\n",
    "            return piano_roll\n",
    "        except Exception as e:\n",
    "            print(f\"Error processing {midi_path}: {e}\")\n",
    "            return torch.zeros((1, self.config.time_steps, self.config.pitch_range))\n",
    "    \n",
    "def load_midi_files(directory):\n",
    "    midi_files = []\n",
    "    for root, _, files in os.walk(directory):\n",
    "        for file in files:\n",
    "            if file.lower().endswith('.mid') or file.lower().endswith('.midi'):\n",
    "                midi_files.append(os.path.join(root, file))\n",
    "    return midi_files"
   ]
  },
  {
   "cell_type": "code",
   "execution_count": 18,
   "id": "4dfcbbaf",
   "metadata": {},
   "outputs": [],
   "source": [
    "def create_unet(config):\n",
    "    return UNet2DModel(\n",
    "        sample_size=config.sample_size,\n",
    "        in_channels=config.in_channels,\n",
    "        out_channels=config.out_channels,\n",
    "        layers_per_block=config.layers_per_block,\n",
    "        block_out_channels=config.block_out_channels,\n",
    "        down_block_types=config.down_block_types,\n",
    "        up_block_types=config.up_block_types,\n",
    "        dropout=config.dropout,\n",
    "        norm_num_groups=config.norm_num_groups\n",
    "    )\n",
    "\n",
    "def create_noise_scheduler(config):\n",
    "    return DDPMScheduler(\n",
    "        num_train_timesteps=config.num_diffusion_steps,\n",
    "        beta_start=config.beta_start,\n",
    "        beta_end=config.beta_end,\n",
    "        beta_schedule=\"linear\",\n",
    "        prediction_type=\"epsilon\"\n",
    "    )"
   ]
  },
  {
   "cell_type": "code",
   "execution_count": 19,
   "id": "98272dc4",
   "metadata": {},
   "outputs": [],
   "source": [
    "def train_loop(model, noise_scheduler, dataloader, optimizer, config):\n",
    "    model.train()\n",
    "    losses = []\n",
    "    best_loss = float('inf')\n",
    "    patience = 10\n",
    "    no_improvement = 0\n",
    "    \n",
    "    initial_steps = 200\n",
    "    noise_scheduler.num_train_timesteps = initial_steps\n",
    "    step_increment = 200\n",
    "    target_steps = config.num_diffusion_steps\n",
    "    \n",
    "    for epoch in range(config.num_epochs):\n",
    "        if epoch % 20 == 0 and noise_scheduler.num_train_timesteps < target_steps:\n",
    "            new_steps = min(noise_scheduler.num_train_timesteps + step_increment, target_steps)\n",
    "            noise_scheduler.num_train_timesteps = new_steps\n",
    "            print(f\"\\nIncreased diffusion steps to {new_steps}\")\n",
    "        \n",
    "        epoch_loss = 0\n",
    "        progress_bar = tqdm(dataloader, desc=f\"Epoch {epoch + 1}/{config.num_epochs}\")\n",
    "        \n",
    "        for batch in progress_bar:\n",
    "            batch = batch.to(config.device)\n",
    "            noise = torch.randn_like(batch)\n",
    "            timesteps = torch.randint(\n",
    "                0, noise_scheduler.num_train_timesteps, \n",
    "                (batch.shape[0],), device=config.device\n",
    "            ).long()\n",
    "            \n",
    "            noisy = noise_scheduler.add_noise(batch, noise, timesteps)\n",
    "            noise_pred = model(noisy, timesteps).sample\n",
    "            loss = F.mse_loss(noise_pred, noise)\n",
    "            \n",
    "            optimizer.zero_grad()\n",
    "            loss.backward()\n",
    "            torch.nn.utils.clip_grad_norm_(model.parameters(), 1.0) \n",
    "            optimizer.step()\n",
    "            \n",
    "            epoch_loss += loss.item()\n",
    "            progress_bar.set_postfix({\n",
    "                \"loss\": loss.item(),\n",
    "                \"steps\": noise_scheduler.num_train_timesteps \n",
    "            })\n",
    "        \n",
    "        avg_loss = epoch_loss / len(dataloader)\n",
    "        losses.append(avg_loss)\n",
    "        \n",
    "        # Early stopping - NEW\n",
    "        if avg_loss < best_loss:\n",
    "            best_loss = avg_loss\n",
    "            no_improvement = 0\n",
    "            torch.save(model.state_dict(), 'best_model.pth')\n",
    "        else:\n",
    "            no_improvement += 1\n",
    "            if no_improvement >= patience:\n",
    "                print(f\"\\nEarly stopping at epoch {epoch + 1}\")\n",
    "                break\n",
    "        \n",
    "        print(f\"Epoch {epoch + 1} | Loss: {avg_loss:.4f} | Best: {best_loss:.4f} | Patience: {no_improvement}/{patience}\")\n",
    "    \n",
    "    return losses\n",
    "\n",
    "def plot_loss(losses):\n",
    "    plt.figure(figsize=(10, 5))\n",
    "    plt.plot(losses)\n",
    "    plt.title(\"Training Loss\")\n",
    "    plt.xlabel(\"Epoch\")\n",
    "    plt.ylabel(\"MSE Loss\")\n",
    "    plt.grid(True)\n",
    "    plt.savefig(\"training_loss.png\")\n",
    "    plt.show()"
   ]
  },
  {
   "cell_type": "code",
   "execution_count": 20,
   "id": "753963a7",
   "metadata": {},
   "outputs": [],
   "source": [
    "def generate_midi(model, noise_scheduler, config, num_samples=1, output_dir = 'generated_midi'):\n",
    "    model.eval()\n",
    "    os.makedirs(output_dir, exist_ok=True)\n",
    "    \n",
    "    # Generate multiple samples\n",
    "    for sample_idx in range(num_samples):\n",
    "        noisy_piano_rolls = torch.randn(\n",
    "            (1, config.in_channels, *config.sample_size),  # Generate one at a time\n",
    "            device=config.device\n",
    "        )\n",
    "        \n",
    "        # Denoising loop\n",
    "        for t in tqdm(noise_scheduler.timesteps, desc=f\"Generating sample {sample_idx+1}/{num_samples}\"):\n",
    "            with torch.no_grad():\n",
    "                noise_pred = model(noisy_piano_rolls, t).sample\n",
    "                noisy_piano_rolls = noise_scheduler.step(\n",
    "                    noise_pred, t, noisy_piano_rolls\n",
    "                ).prev_sample\n",
    "        \n",
    "        # Convert and save\n",
    "        generated = (noisy_piano_rolls + 1) / 2\n",
    "        piano_roll = generated[0,0].cpu().numpy()  # Remove batch and channel dims\n",
    "        \n",
    "        # Save MIDI\n",
    "        output_path = os.path.join(output_dir, f\"generated_{sample_idx}.mid\")\n",
    "        piano_roll_to_midi(piano_roll, output_path)\n",
    "        print(f\"Saved {output_path}\")\n",
    "        \n",
    "        # Save visualization\n",
    "        plt.figure(figsize=(12, 4))\n",
    "        plt.imshow(piano_roll.T, aspect='auto', origin='lower', cmap='viridis')\n",
    "        plt.title(f\"Generated Sample {sample_idx}\")\n",
    "        plt.xlabel(\"Time Steps\")\n",
    "        plt.ylabel(\"Pitch\")\n",
    "        plt.colorbar(label=\"Velocity\")\n",
    "        plt.savefig(os.path.join(output_dir, f\"sample_{sample_idx}_plot.png\"))\n",
    "        plt.close()\n",
    "    return generated.clamp(0, 1).cpu().numpy()\n",
    "\n",
    "def piano_roll_to_midi(piano_roll, output_path, velocity_threshold=0.1):\n",
    "    midi = PrettyMIDI()\n",
    "    piano = Instrument(program=0)\n",
    "    \n",
    "    # Calculate step duration for exactly 1 minute\n",
    "    total_duration = 60.0  # 60 seconds = 1 minute\n",
    "    time_step_duration = total_duration / piano_roll.shape[0]\n",
    "    \n",
    "    for time_step in range(piano_roll.shape[0]):\n",
    "        for pitch in range(piano_roll.shape[1]):\n",
    "            velocity = piano_roll[time_step, pitch]\n",
    "            \n",
    "            if velocity > velocity_threshold:\n",
    "                note = Note(\n",
    "                    velocity=int(velocity * 127),\n",
    "                    pitch=pitch,\n",
    "                    start=time_step * time_step_duration,\n",
    "                    end=(time_step + 1) * time_step_duration\n",
    "                )\n",
    "                piano.notes.append(note)\n",
    "    \n",
    "    midi.instruments.append(piano)\n",
    "    midi.write(output_path)\n",
    "\n",
    "def generate_and_visualize(model, noise_scheduler, config, num_samples=3):\n",
    "    samples = generate_midi(model, noise_scheduler, config, num_samples)\n",
    "    \n",
    "    os.makedirs(\"generated_midi\", exist_ok=True)\n",
    "    for i, sample in enumerate(samples):\n",
    "        piano_roll = sample[0]  # Remove channel dim\n",
    "        \n",
    "        plt.figure(figsize=(12, 4))\n",
    "        plt.imshow(piano_roll.T, aspect='auto', origin='lower', cmap='viridis')\n",
    "        plt.title(f\"Generated Sample {i + 1}\")\n",
    "        plt.xlabel(\"Time Steps\")\n",
    "        plt.ylabel(\"Pitch\")\n",
    "        plt.colorbar(label=\"Velocity\")\n",
    "        plt.savefig(f\"generated_midi/sample_{i}_plot.png\")\n",
    "        plt.close()\n",
    "        \n",
    "        output_path = f\"generated_midi/sample_{i}.mid\"\n",
    "        piano_roll_to_midi(piano_roll, output_path)\n",
    "        print(f\"Saved {output_path}\")"
   ]
  },
  {
   "cell_type": "code",
   "execution_count": 21,
   "id": "41b53dad",
   "metadata": {},
   "outputs": [
    {
     "name": "stdout",
     "output_type": "stream",
     "text": [
      "Loaded 67 MIDI files\n",
      "\n",
      "Model Parameters: 1.69M\n",
      "Starting training...\n",
      "\n",
      "\n",
      "Increased diffusion steps to 400\n"
     ]
    },
    {
     "name": "stderr",
     "output_type": "stream",
     "text": [
      "Epoch 1/100: 100%|██████████| 17/17 [00:07<00:00,  2.15it/s, loss=0.994, steps=400]\n"
     ]
    },
    {
     "name": "stdout",
     "output_type": "stream",
     "text": [
      "Epoch 1 | Loss: 1.0955 | Best: 1.0955 | Patience: 0/10\n"
     ]
    },
    {
     "name": "stderr",
     "output_type": "stream",
     "text": [
      "Epoch 2/100: 100%|██████████| 17/17 [00:07<00:00,  2.41it/s, loss=0.855, steps=400]\n"
     ]
    },
    {
     "name": "stdout",
     "output_type": "stream",
     "text": [
      "Epoch 2 | Loss: 0.9092 | Best: 0.9092 | Patience: 0/10\n"
     ]
    },
    {
     "name": "stderr",
     "output_type": "stream",
     "text": [
      "Epoch 3/100: 100%|██████████| 17/17 [00:07<00:00,  2.41it/s, loss=0.777, steps=400]\n"
     ]
    },
    {
     "name": "stdout",
     "output_type": "stream",
     "text": [
      "Epoch 3 | Loss: 0.7382 | Best: 0.7382 | Patience: 0/10\n"
     ]
    },
    {
     "name": "stderr",
     "output_type": "stream",
     "text": [
      "Epoch 4/100: 100%|██████████| 17/17 [00:07<00:00,  2.31it/s, loss=0.502, steps=400]\n"
     ]
    },
    {
     "name": "stdout",
     "output_type": "stream",
     "text": [
      "Epoch 4 | Loss: 0.6209 | Best: 0.6209 | Patience: 0/10\n"
     ]
    },
    {
     "name": "stderr",
     "output_type": "stream",
     "text": [
      "Epoch 5/100: 100%|██████████| 17/17 [00:07<00:00,  2.40it/s, loss=0.443, steps=400]\n"
     ]
    },
    {
     "name": "stdout",
     "output_type": "stream",
     "text": [
      "Epoch 5 | Loss: 0.5005 | Best: 0.5005 | Patience: 0/10\n"
     ]
    },
    {
     "name": "stderr",
     "output_type": "stream",
     "text": [
      "Epoch 6/100: 100%|██████████| 17/17 [00:07<00:00,  2.35it/s, loss=0.39, steps=400] \n"
     ]
    },
    {
     "name": "stdout",
     "output_type": "stream",
     "text": [
      "Epoch 6 | Loss: 0.4662 | Best: 0.4662 | Patience: 0/10\n"
     ]
    },
    {
     "name": "stderr",
     "output_type": "stream",
     "text": [
      "Epoch 7/100: 100%|██████████| 17/17 [00:06<00:00,  2.44it/s, loss=0.345, steps=400]\n"
     ]
    },
    {
     "name": "stdout",
     "output_type": "stream",
     "text": [
      "Epoch 7 | Loss: 0.3387 | Best: 0.3387 | Patience: 0/10\n"
     ]
    },
    {
     "name": "stderr",
     "output_type": "stream",
     "text": [
      "Epoch 8/100: 100%|██████████| 17/17 [00:06<00:00,  2.43it/s, loss=0.399, steps=400]\n"
     ]
    },
    {
     "name": "stdout",
     "output_type": "stream",
     "text": [
      "Epoch 8 | Loss: 0.2844 | Best: 0.2844 | Patience: 0/10\n"
     ]
    },
    {
     "name": "stderr",
     "output_type": "stream",
     "text": [
      "Epoch 9/100: 100%|██████████| 17/17 [00:07<00:00,  2.31it/s, loss=0.177, steps=400]\n"
     ]
    },
    {
     "name": "stdout",
     "output_type": "stream",
     "text": [
      "Epoch 9 | Loss: 0.2472 | Best: 0.2472 | Patience: 0/10\n"
     ]
    },
    {
     "name": "stderr",
     "output_type": "stream",
     "text": [
      "Epoch 10/100: 100%|██████████| 17/17 [00:07<00:00,  2.39it/s, loss=0.21, steps=400] \n"
     ]
    },
    {
     "name": "stdout",
     "output_type": "stream",
     "text": [
      "Epoch 10 | Loss: 0.2195 | Best: 0.2195 | Patience: 0/10\n"
     ]
    },
    {
     "name": "stderr",
     "output_type": "stream",
     "text": [
      "Epoch 11/100: 100%|██████████| 17/17 [00:07<00:00,  2.41it/s, loss=0.237, steps=400]\n"
     ]
    },
    {
     "name": "stdout",
     "output_type": "stream",
     "text": [
      "Epoch 11 | Loss: 0.2279 | Best: 0.2195 | Patience: 1/10\n"
     ]
    },
    {
     "name": "stderr",
     "output_type": "stream",
     "text": [
      "Epoch 12/100: 100%|██████████| 17/17 [00:07<00:00,  2.28it/s, loss=0.153, steps=400]\n"
     ]
    },
    {
     "name": "stdout",
     "output_type": "stream",
     "text": [
      "Epoch 12 | Loss: 0.1706 | Best: 0.1706 | Patience: 0/10\n"
     ]
    },
    {
     "name": "stderr",
     "output_type": "stream",
     "text": [
      "Epoch 13/100: 100%|██████████| 17/17 [00:07<00:00,  2.38it/s, loss=0.124, steps=400]\n"
     ]
    },
    {
     "name": "stdout",
     "output_type": "stream",
     "text": [
      "Epoch 13 | Loss: 0.1772 | Best: 0.1706 | Patience: 1/10\n"
     ]
    },
    {
     "name": "stderr",
     "output_type": "stream",
     "text": [
      "Epoch 14/100: 100%|██████████| 17/17 [00:07<00:00,  2.31it/s, loss=0.205, steps=400]\n"
     ]
    },
    {
     "name": "stdout",
     "output_type": "stream",
     "text": [
      "Epoch 14 | Loss: 0.1673 | Best: 0.1673 | Patience: 0/10\n"
     ]
    },
    {
     "name": "stderr",
     "output_type": "stream",
     "text": [
      "Epoch 15/100: 100%|██████████| 17/17 [00:07<00:00,  2.38it/s, loss=0.134, steps=400]\n"
     ]
    },
    {
     "name": "stdout",
     "output_type": "stream",
     "text": [
      "Epoch 15 | Loss: 0.1774 | Best: 0.1673 | Patience: 1/10\n"
     ]
    },
    {
     "name": "stderr",
     "output_type": "stream",
     "text": [
      "Epoch 16/100: 100%|██████████| 17/17 [00:07<00:00,  2.30it/s, loss=0.155, steps=400]\n"
     ]
    },
    {
     "name": "stdout",
     "output_type": "stream",
     "text": [
      "Epoch 16 | Loss: 0.1717 | Best: 0.1673 | Patience: 2/10\n"
     ]
    },
    {
     "name": "stderr",
     "output_type": "stream",
     "text": [
      "Epoch 17/100: 100%|██████████| 17/17 [00:07<00:00,  2.39it/s, loss=0.0821, steps=400]\n"
     ]
    },
    {
     "name": "stdout",
     "output_type": "stream",
     "text": [
      "Epoch 17 | Loss: 0.1541 | Best: 0.1541 | Patience: 0/10\n"
     ]
    },
    {
     "name": "stderr",
     "output_type": "stream",
     "text": [
      "Epoch 18/100: 100%|██████████| 17/17 [00:07<00:00,  2.41it/s, loss=0.0894, steps=400]\n"
     ]
    },
    {
     "name": "stdout",
     "output_type": "stream",
     "text": [
      "Epoch 18 | Loss: 0.1423 | Best: 0.1423 | Patience: 0/10\n"
     ]
    },
    {
     "name": "stderr",
     "output_type": "stream",
     "text": [
      "Epoch 19/100: 100%|██████████| 17/17 [00:07<00:00,  2.33it/s, loss=0.117, steps=400]\n"
     ]
    },
    {
     "name": "stdout",
     "output_type": "stream",
     "text": [
      "Epoch 19 | Loss: 0.1571 | Best: 0.1423 | Patience: 1/10\n"
     ]
    },
    {
     "name": "stderr",
     "output_type": "stream",
     "text": [
      "Epoch 20/100: 100%|██████████| 17/17 [00:07<00:00,  2.40it/s, loss=0.0888, steps=400]\n"
     ]
    },
    {
     "name": "stdout",
     "output_type": "stream",
     "text": [
      "Epoch 20 | Loss: 0.1490 | Best: 0.1423 | Patience: 2/10\n",
      "\n",
      "Increased diffusion steps to 600\n"
     ]
    },
    {
     "name": "stderr",
     "output_type": "stream",
     "text": [
      "Epoch 21/100: 100%|██████████| 17/17 [00:07<00:00,  2.26it/s, loss=0.117, steps=600] \n"
     ]
    },
    {
     "name": "stdout",
     "output_type": "stream",
     "text": [
      "Epoch 21 | Loss: 0.1223 | Best: 0.1223 | Patience: 0/10\n"
     ]
    },
    {
     "name": "stderr",
     "output_type": "stream",
     "text": [
      "Epoch 22/100: 100%|██████████| 17/17 [00:07<00:00,  2.39it/s, loss=0.0801, steps=600]\n"
     ]
    },
    {
     "name": "stdout",
     "output_type": "stream",
     "text": [
      "Epoch 22 | Loss: 0.1126 | Best: 0.1126 | Patience: 0/10\n"
     ]
    },
    {
     "name": "stderr",
     "output_type": "stream",
     "text": [
      "Epoch 23/100: 100%|██████████| 17/17 [00:07<00:00,  2.38it/s, loss=0.132, steps=600] \n"
     ]
    },
    {
     "name": "stdout",
     "output_type": "stream",
     "text": [
      "Epoch 23 | Loss: 0.1291 | Best: 0.1126 | Patience: 1/10\n"
     ]
    },
    {
     "name": "stderr",
     "output_type": "stream",
     "text": [
      "Epoch 24/100: 100%|██████████| 17/17 [00:07<00:00,  2.31it/s, loss=0.153, steps=600] \n"
     ]
    },
    {
     "name": "stdout",
     "output_type": "stream",
     "text": [
      "Epoch 24 | Loss: 0.1254 | Best: 0.1126 | Patience: 2/10\n"
     ]
    },
    {
     "name": "stderr",
     "output_type": "stream",
     "text": [
      "Epoch 25/100: 100%|██████████| 17/17 [00:06<00:00,  2.43it/s, loss=0.227, steps=600] \n"
     ]
    },
    {
     "name": "stdout",
     "output_type": "stream",
     "text": [
      "Epoch 25 | Loss: 0.1082 | Best: 0.1082 | Patience: 0/10\n"
     ]
    },
    {
     "name": "stderr",
     "output_type": "stream",
     "text": [
      "Epoch 26/100: 100%|██████████| 17/17 [00:07<00:00,  2.42it/s, loss=0.0528, steps=600]\n"
     ]
    },
    {
     "name": "stdout",
     "output_type": "stream",
     "text": [
      "Epoch 26 | Loss: 0.1157 | Best: 0.1082 | Patience: 1/10\n"
     ]
    },
    {
     "name": "stderr",
     "output_type": "stream",
     "text": [
      "Epoch 27/100: 100%|██████████| 17/17 [00:07<00:00,  2.33it/s, loss=0.128, steps=600] \n"
     ]
    },
    {
     "name": "stdout",
     "output_type": "stream",
     "text": [
      "Epoch 27 | Loss: 0.0906 | Best: 0.0906 | Patience: 0/10\n"
     ]
    },
    {
     "name": "stderr",
     "output_type": "stream",
     "text": [
      "Epoch 28/100: 100%|██████████| 17/17 [00:07<00:00,  2.39it/s, loss=0.08, steps=600]  \n"
     ]
    },
    {
     "name": "stdout",
     "output_type": "stream",
     "text": [
      "Epoch 28 | Loss: 0.0824 | Best: 0.0824 | Patience: 0/10\n"
     ]
    },
    {
     "name": "stderr",
     "output_type": "stream",
     "text": [
      "Epoch 29/100: 100%|██████████| 17/17 [00:07<00:00,  2.32it/s, loss=0.104, steps=600] \n"
     ]
    },
    {
     "name": "stdout",
     "output_type": "stream",
     "text": [
      "Epoch 29 | Loss: 0.1066 | Best: 0.0824 | Patience: 1/10\n"
     ]
    },
    {
     "name": "stderr",
     "output_type": "stream",
     "text": [
      "Epoch 30/100: 100%|██████████| 17/17 [00:07<00:00,  2.39it/s, loss=0.0629, steps=600]\n"
     ]
    },
    {
     "name": "stdout",
     "output_type": "stream",
     "text": [
      "Epoch 30 | Loss: 0.0875 | Best: 0.0824 | Patience: 2/10\n"
     ]
    },
    {
     "name": "stderr",
     "output_type": "stream",
     "text": [
      "Epoch 31/100: 100%|██████████| 17/17 [00:07<00:00,  2.39it/s, loss=0.193, steps=600] \n"
     ]
    },
    {
     "name": "stdout",
     "output_type": "stream",
     "text": [
      "Epoch 31 | Loss: 0.1050 | Best: 0.0824 | Patience: 3/10\n"
     ]
    },
    {
     "name": "stderr",
     "output_type": "stream",
     "text": [
      "Epoch 32/100: 100%|██████████| 17/17 [00:07<00:00,  2.31it/s, loss=0.139, steps=600] \n"
     ]
    },
    {
     "name": "stdout",
     "output_type": "stream",
     "text": [
      "Epoch 32 | Loss: 0.1136 | Best: 0.0824 | Patience: 4/10\n"
     ]
    },
    {
     "name": "stderr",
     "output_type": "stream",
     "text": [
      "Epoch 33/100: 100%|██████████| 17/17 [00:07<00:00,  2.43it/s, loss=0.119, steps=600] \n"
     ]
    },
    {
     "name": "stdout",
     "output_type": "stream",
     "text": [
      "Epoch 33 | Loss: 0.0925 | Best: 0.0824 | Patience: 5/10\n"
     ]
    },
    {
     "name": "stderr",
     "output_type": "stream",
     "text": [
      "Epoch 34/100: 100%|██████████| 17/17 [00:07<00:00,  2.30it/s, loss=0.0762, steps=600]\n"
     ]
    },
    {
     "name": "stdout",
     "output_type": "stream",
     "text": [
      "Epoch 34 | Loss: 0.1086 | Best: 0.0824 | Patience: 6/10\n"
     ]
    },
    {
     "name": "stderr",
     "output_type": "stream",
     "text": [
      "Epoch 35/100: 100%|██████████| 17/17 [00:07<00:00,  2.43it/s, loss=0.0538, steps=600]\n"
     ]
    },
    {
     "name": "stdout",
     "output_type": "stream",
     "text": [
      "Epoch 35 | Loss: 0.1234 | Best: 0.0824 | Patience: 7/10\n"
     ]
    },
    {
     "name": "stderr",
     "output_type": "stream",
     "text": [
      "Epoch 36/100: 100%|██████████| 17/17 [00:07<00:00,  2.30it/s, loss=0.11, steps=600]  \n"
     ]
    },
    {
     "name": "stdout",
     "output_type": "stream",
     "text": [
      "Epoch 36 | Loss: 0.0953 | Best: 0.0824 | Patience: 8/10\n"
     ]
    },
    {
     "name": "stderr",
     "output_type": "stream",
     "text": [
      "Epoch 37/100: 100%|██████████| 17/17 [00:07<00:00,  2.42it/s, loss=0.055, steps=600] \n"
     ]
    },
    {
     "name": "stdout",
     "output_type": "stream",
     "text": [
      "Epoch 37 | Loss: 0.1048 | Best: 0.0824 | Patience: 9/10\n"
     ]
    },
    {
     "name": "stderr",
     "output_type": "stream",
     "text": [
      "Epoch 38/100: 100%|██████████| 17/17 [00:07<00:00,  2.41it/s, loss=0.143, steps=600] \n"
     ]
    },
    {
     "name": "stdout",
     "output_type": "stream",
     "text": [
      "\n",
      "Early stopping at epoch 38\n"
     ]
    },
    {
     "data": {
      "image/png": "[encoded data removed]",
      "text/plain": [
       "<Figure size 1000x500 with 1 Axes>"
      ]
     },
     "metadata": {},
     "output_type": "display_data"
    },
    {
     "name": "stderr",
     "output_type": "stream",
     "text": [
      "Generating sample 1/5: 100%|██████████| 1000/1000 [00:19<00:00, 50.13it/s]\n"
     ]
    },
    {
     "name": "stdout",
     "output_type": "stream",
     "text": [
      "Saved generated_midi\\generated_0.mid\n"
     ]
    },
    {
     "name": "stderr",
     "output_type": "stream",
     "text": [
      "Generating sample 2/5: 100%|██████████| 1000/1000 [00:19<00:00, 50.93it/s]\n"
     ]
    },
    {
     "name": "stdout",
     "output_type": "stream",
     "text": [
      "Saved generated_midi\\generated_1.mid\n"
     ]
    },
    {
     "name": "stderr",
     "output_type": "stream",
     "text": [
      "Generating sample 3/5: 100%|██████████| 1000/1000 [00:19<00:00, 51.80it/s]\n"
     ]
    },
    {
     "name": "stdout",
     "output_type": "stream",
     "text": [
      "Saved generated_midi\\generated_2.mid\n"
     ]
    },
    {
     "name": "stderr",
     "output_type": "stream",
     "text": [
      "Generating sample 4/5: 100%|██████████| 1000/1000 [00:19<00:00, 51.10it/s]\n"
     ]
    },
    {
     "name": "stdout",
     "output_type": "stream",
     "text": [
      "Saved generated_midi\\generated_3.mid\n"
     ]
    },
    {
     "name": "stderr",
     "output_type": "stream",
     "text": [
      "Generating sample 5/5: 100%|██████████| 1000/1000 [00:19<00:00, 51.05it/s]\n"
     ]
    },
    {
     "name": "stdout",
     "output_type": "stream",
     "text": [
      "Saved generated_midi\\generated_4.mid\n"
     ]
    }
   ],
   "source": [
    "def main():\n",
    "    midi_dir = \"bach-cello\"\n",
    "    midi_files = load_midi_files(midi_dir)\n",
    "    \n",
    "    if not midi_files:\n",
    "        print(\"No MIDI files found!\")\n",
    "        return\n",
    "    \n",
    "    print(f\"Loaded {len(midi_files)} MIDI files\")\n",
    "    \n",
    "    dataset = MIDIDataset(midi_files, config)\n",
    "    dataloader = DataLoader(dataset, batch_size=config.batch_size, shuffle=True)\n",
    "    \n",
    "    model = create_unet(config).to(config.device)\n",
    "    noise_scheduler = create_noise_scheduler(config)\n",
    "    optimizer = torch.optim.AdamW(model.parameters(), lr=config.learning_rate)\n",
    "    \n",
    "    # NEW: Print model info\n",
    "    print(f\"\\nModel Parameters: {sum(p.numel() for p in model.parameters())/1e6:.2f}M\")\n",
    "    print(\"Starting training...\\n\")\n",
    "    \n",
    "    losses = train_loop(model, noise_scheduler, dataloader, optimizer, config)\n",
    "    plot_loss(losses)\n",
    "    \n",
    "    # Load best model\n",
    "    model.load_state_dict(torch.load('best_model.pth'))\n",
    "    num_samples = 5  # Change this to generate more/fewer samples\n",
    "    generate_midi(model, noise_scheduler, config, num_samples=num_samples)\n",
    "\n",
    "if __name__ == \"__main__\":\n",
    "    main()"
   ]
  }
 ],
 "metadata": {
  "kernelspec": {
   "display_name": "Python 3",
   "language": "python",
   "name": "python3"
  },
  "language_info": {
   "codemirror_mode": {
    "name": "ipython",
    "version": 3
   },
   "file_extension": ".py",
   "mimetype": "text/x-python",
   "name": "python",
   "nbconvert_exporter": "python",
   "pygments_lexer": "ipython3",
   "version": "3.11.9"
  }
 },
 "nbformat": 4,
 "nbformat_minor": 5
}
