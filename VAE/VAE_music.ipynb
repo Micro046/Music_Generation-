{
  "cells": [
    {
      "cell_type": "code",
      "execution_count": 1,
      "metadata": {
        "colab": {
          "base_uri": "https://localhost:8080/"
        },
        "id": "hlI3YB438Xg8",
        "outputId": "161774c4-faf1-4ddb-9cb4-6f93a7d14f04"
      },
      "outputs": [
        {
          "output_type": "stream",
          "name": "stdout",
          "text": [
            "Collecting pretty-midi\n",
            "  Downloading pretty_midi-0.2.10.tar.gz (5.6 MB)\n",
            "\u001b[?25l     \u001b[90m━━━━━━━━━━━━━━━━━━━━━━━━━━━━━━━━━━━━━━━━\u001b[0m \u001b[32m0.0/5.6 MB\u001b[0m \u001b[31m?\u001b[0m eta \u001b[36m-:--:--\u001b[0m\r\u001b[2K     \u001b[91m━━━━━━━━━━━━━━━━━━━━━━━━━━━━━━━━━━━━━━\u001b[0m\u001b[90m╺\u001b[0m\u001b[90m━\u001b[0m \u001b[32m5.4/5.6 MB\u001b[0m \u001b[31m161.7 MB/s\u001b[0m eta \u001b[36m0:00:01\u001b[0m\r\u001b[2K     \u001b[90m━━━━━━━━━━━━━━━━━━━━━━━━━━━━━━━━━━━━━━━━\u001b[0m \u001b[32m5.6/5.6 MB\u001b[0m \u001b[31m97.1 MB/s\u001b[0m eta \u001b[36m0:00:00\u001b[0m\n",
            "\u001b[?25h  Preparing metadata (setup.py) ... \u001b[?25l\u001b[?25hdone\n",
            "Requirement already satisfied: numpy>=1.7.0 in /usr/local/lib/python3.11/dist-packages (from pretty-midi) (2.0.2)\n",
            "Collecting mido>=1.1.16 (from pretty-midi)\n",
            "  Downloading mido-1.3.3-py3-none-any.whl.metadata (6.4 kB)\n",
            "Requirement already satisfied: six in /usr/local/lib/python3.11/dist-packages (from pretty-midi) (1.17.0)\n",
            "Requirement already satisfied: packaging in /usr/local/lib/python3.11/dist-packages (from mido>=1.1.16->pretty-midi) (24.2)\n",
            "Downloading mido-1.3.3-py3-none-any.whl (54 kB)\n",
            "\u001b[2K   \u001b[90m━━━━━━━━━━━━━━━━━━━━━━━━━━━━━━━━━━━━━━━━\u001b[0m \u001b[32m54.6/54.6 kB\u001b[0m \u001b[31m6.7 MB/s\u001b[0m eta \u001b[36m0:00:00\u001b[0m\n",
            "\u001b[?25hBuilding wheels for collected packages: pretty-midi\n",
            "  Building wheel for pretty-midi (setup.py) ... \u001b[?25l\u001b[?25hdone\n",
            "  Created wheel for pretty-midi: filename=pretty_midi-0.2.10-py3-none-any.whl size=5592286 sha256=571fc6bacf61620cf1a52c0242155324ef706086f315aa0b33b698a83836707a\n",
            "  Stored in directory: /root/.cache/pip/wheels/e6/95/ac/15ceaeb2823b04d8e638fd1495357adb8d26c00ccac9d7782e\n",
            "Successfully built pretty-midi\n",
            "Installing collected packages: mido, pretty-midi\n",
            "Successfully installed mido-1.3.3 pretty-midi-0.2.10\n"
          ]
        }
      ],
      "source": [
        "!pip install pretty-midi"
      ]
    },
    {
      "cell_type": "code",
      "execution_count": 2,
      "metadata": {
        "id": "UcRgAK2Y5yOe"
      },
      "outputs": [],
      "source": [
        "import os\n",
        "import numpy as np\n",
        "import torch\n",
        "import torch.nn as nn\n",
        "import torch.nn.functional as F\n",
        "from torch.utils.data import Dataset, DataLoader\n",
        "from diffusers import UNet2DModel, DDPMScheduler\n",
        "from matplotlib import pyplot as plt\n",
        "from pretty_midi import PrettyMIDI, Instrument, Note\n",
        "import matplotlib.pyplot as plt\n",
        "from tqdm.auto import tqdm\n",
        "from torchvision.transforms import RandomAffine\n",
        "import urllib.request"
      ]
    },
    {
      "cell_type": "code",
      "execution_count": 3,
      "metadata": {
        "id": "XDTcQWGJ90BI"
      },
      "outputs": [],
      "source": [
        "import torch\n",
        "import torch.nn as nn\n",
        "import torch.nn.functional as F\n",
        "import torch.optim as optim\n",
        "from torch.utils.data import DataLoader, Dataset\n",
        "import numpy as np\n",
        "from IPython.display import clear_output"
      ]
    },
    {
      "cell_type": "code",
      "execution_count": 4,
      "metadata": {
        "colab": {
          "base_uri": "https://localhost:8080/",
          "height": 66,
          "referenced_widgets": [
            "dd9ae4f7db1f4f8880c4246b938d8a5d",
            "6202f01c7064467784d4c9ef029af032",
            "cf72df35f59e41b88a87e3787413631d",
            "44a4fcd46cbe4b85be5f8a66c08221a4",
            "deead7d28469474498f85c7a90c19b9b",
            "d545ebab90694ef89dce86b664dcf281",
            "0795769fa964411bb9405ff67e22b065",
            "984e34ae1307486db371b485bffe81f7",
            "e5f6022b8e694c7fa821617a0314d82b",
            "c66adace21f042d89667b3ad78224f02",
            "dd019b584d9b45ca982b9cbf15592934"
          ]
        },
        "id": "r5Zs7h_P7_XY",
        "outputId": "b76169b6-8a42-4b21-c660-fcaaa4d84c04"
      },
      "outputs": [
        {
          "output_type": "display_data",
          "data": {
            "text/plain": [
              "  0%|          | 0/67 [00:00<?, ?it/s]"
            ],
            "application/vnd.jupyter.widget-view+json": {
              "version_major": 2,
              "version_minor": 0,
              "model_id": "dd9ae4f7db1f4f8880c4246b938d8a5d"
            }
          },
          "metadata": {}
        },
        {
          "output_type": "stream",
          "name": "stdout",
          "text": [
            "🚀 Done downloading all files!\n"
          ]
        }
      ],
      "source": [
        "target_dir = 'bach-cello'\n",
        "os.makedirs(target_dir, exist_ok=True)\n",
        "\n",
        "urls = [\n",
        "    \"cs1-1pre.mid\",\"cs1-2all.mid\",\"cs1-3cou.mid\",\"cs1-4sar.mid\",\"cs1-5men.mid\",\"cs1-6gig.mid\",\n",
        "    \"cs2-1pre.mid\",\"cs2-2all.mid\",\"cs2-3cou.mid\",\"cs2-4sar.mid\",\"cs2-5men.mid\",\"cs2-6gig.mid\",\n",
        "    \"cs3-1pre.mid\",\"cs3-2all.mid\",\"cs3-3cou.mid\",\"cs3-4sar.mid\",\"cs3-5bou.mid\",\"cs3-6gig.mid\",\n",
        "    \"cs4-1pre.mid\",\"cs4-2all.mid\",\"cs4-3cou.mid\",\"cs4-4sar.mid\",\"cs4-5bou.mid\",\"cs4-6gig.mid\",\n",
        "    \"cs5-1pre.mid\",\"cs5-2all.mid\",\"cs5-3cou.mid\",\"cs5-4sar.mid\",\"cs5-5gav.mid\",\"cs5-6gig.mid\",\n",
        "    \"cs6-1pre.mid\",\"cs6-2all.mid\",\"cs6-3cou.mid\",\"cs6-4sar.mid\",\"cs6-5gav.mid\",\"cs6-6gig.mid\",\n",
        "    'vs1-1ada.mid','vs1-2fug.mid', 'vs1-3sic.mid', 'vs1-4prs.mid', 'vp1-1al.mid', 'vp1-2ald.mid',\n",
        "    'vp1-3co.mid', 'vp1-4cod.mid', 'vp1-5sa.mid', 'vp1-6sad.mid', 'vp1-7tb.mid', 'vp1-8tbd.mid',\n",
        "    'vs2-1gra.mid', 'vs2-2fug.mid', 'vs2-3and.mid', 'vs2-4alg.mid', 'vp2-1all.mid', 'vp2-2cou.mid',\n",
        "    'vp2-3sar.mid', 'vp2-4gig.mid', 'vp2-5cha.mid', 'vs3-1ada.mid', 'vs3-2fug.mid', 'vs3-3lar.mid',\n",
        "    'vs3-4alg.mid', 'vp3-1pre.mid', 'vp3-2lou.mid', 'vp3-3gav.mid', 'vp3-4min.mid', 'vp3-5bou.mid',\n",
        "    'vp3-6gig.mid'\n",
        "]\n",
        "base_url = \"http://www.jsbach.net/midi\"\n",
        "\n",
        "for file in tqdm(urls):\n",
        "    url = f\"{base_url}/{file}\"\n",
        "    file_path = os.path.join(target_dir, file)\n",
        "    try:\n",
        "        urllib.request.urlretrieve(url, file_path)\n",
        "    except Exception as e:\n",
        "        print(f\"Failed to download {file}: {e}\")\n",
        "\n",
        "print(\"🚀 Done downloading all files!\")"
      ]
    },
    {
      "cell_type": "code",
      "execution_count": 5,
      "metadata": {
        "id": "8ecr3mfJ8CIF"
      },
      "outputs": [],
      "source": [
        "def midi_to_pianoroll(midi_path, fs=8, pitch_range=(21, 109), max_len=1000):\n",
        "    try:\n",
        "        midi = PrettyMIDI(midi_path)\n",
        "        piano_roll = midi.get_piano_roll(fs=fs)[pitch_range[0]:pitch_range[1]]\n",
        "        piano_roll = (piano_roll > 0).astype(np.float32)\n",
        "        if piano_roll.shape[1] < max_len:\n",
        "            padded = np.zeros((pitch_range[1] - pitch_range[0], max_len))\n",
        "            padded[:, :piano_roll.shape[1]] = piano_roll\n",
        "        else:\n",
        "            padded = piano_roll[:, :max_len]\n",
        "        return padded.T\n",
        "    except Exception as e:\n",
        "        print(f\"Error processing {midi_path}: {e}\")\n",
        "        return None"
      ]
    },
    {
      "cell_type": "code",
      "execution_count": 6,
      "metadata": {
        "colab": {
          "base_uri": "https://localhost:8080/"
        },
        "id": "MLBgzPdF8uw1",
        "outputId": "f937ac82-2885-4bf1-a55e-7d92a90310e7"
      },
      "outputs": [
        {
          "output_type": "stream",
          "name": "stdout",
          "text": [
            "✅ Saved piano rolls as numpy array!\n"
          ]
        }
      ],
      "source": [
        "midi_dir = \"bach-cello\"\n",
        "data = []\n",
        "\n",
        "for fname in os.listdir(midi_dir):\n",
        "    if fname.endswith(\".mid\"):\n",
        "        roll = midi_to_pianoroll(os.path.join(midi_dir, fname))\n",
        "        if roll is not None:\n",
        "            data.append(roll)\n",
        "\n",
        "data = np.array(data)  # shape: (num_samples, sequence_len, pitch_dim)\n",
        "np.save(\"bach_pianorolls.npy\", data)\n",
        "print(\"✅ Saved piano rolls as numpy array!\")"
      ]
    },
    {
      "cell_type": "code",
      "execution_count": 7,
      "metadata": {
        "id": "sNyKTtDu9kBo"
      },
      "outputs": [],
      "source": [
        "class MusicDataset(Dataset):\n",
        "    def __init__(self, data):\n",
        "        self.data = data.astype(np.float32)\n",
        "\n",
        "    def __len__(self):\n",
        "        return len(self.data)\n",
        "\n",
        "    def __getitem__(self, idx):\n",
        "        return self.data[idx]"
      ]
    },
    {
      "cell_type": "code",
      "execution_count": 8,
      "metadata": {
        "id": "OGjJRKWu9r_S"
      },
      "outputs": [],
      "source": [
        "class MusicVAE(nn.Module):\n",
        "    def __init__(self, input_dim=128, hidden_dim=256, latent_dim=32, seq_len=100):\n",
        "        super(MusicVAE, self).__init__()\n",
        "        self.seq_len = seq_len\n",
        "        self.input_dim = input_dim\n",
        "        self.latent_dim = latent_dim\n",
        "\n",
        "        # Encoder\n",
        "        self.encoder = nn.Sequential(\n",
        "            nn.Flatten(),\n",
        "            nn.Linear(seq_len * input_dim, hidden_dim),\n",
        "            nn.ReLU()\n",
        "        )\n",
        "        self.fc_mu = nn.Linear(hidden_dim, latent_dim)\n",
        "        self.fc_logvar = nn.Linear(hidden_dim, latent_dim)\n",
        "\n",
        "        # Decoder\n",
        "        self.decoder_fc = nn.Linear(latent_dim, hidden_dim)\n",
        "        self.decoder_out = nn.Sequential(\n",
        "            nn.ReLU(),\n",
        "            nn.Linear(hidden_dim, seq_len * input_dim),\n",
        "            nn.Sigmoid()\n",
        "        )\n",
        "\n",
        "    def encode(self, x):\n",
        "        h = self.encoder(x)\n",
        "        return self.fc_mu(h), self.fc_logvar(h)\n",
        "\n",
        "    def reparameterize(self, mu, logvar):\n",
        "        std = torch.exp(0.5 * logvar)\n",
        "        eps = torch.randn_like(std)\n",
        "        return mu + eps * std\n",
        "\n",
        "    def decode(self, z):\n",
        "        h = self.decoder_fc(z)\n",
        "        return self.decoder_out(h).view(-1, self.seq_len, self.input_dim)\n",
        "\n",
        "    def forward(self, x):\n",
        "        mu, logvar = self.encode(x)\n",
        "        z = self.reparameterize(mu, logvar)\n",
        "        x_recon = self.decode(z)\n",
        "        return x_recon, mu, logvar"
      ]
    },
    {
      "cell_type": "code",
      "execution_count": 9,
      "metadata": {
        "id": "SI8OFXV19vAa"
      },
      "outputs": [],
      "source": [
        "def vae_loss(recon_x, x, mu, logvar):\n",
        "    recon_loss = F.binary_cross_entropy(recon_x, x, reduction='sum')\n",
        "    kld = -0.5 * torch.sum(1 + logvar - mu.pow(2) - logvar.exp())\n",
        "    return recon_loss + kld"
      ]
    },
    {
      "cell_type": "code",
      "execution_count": 10,
      "metadata": {
        "id": "sv8qF8ya9v5H"
      },
      "outputs": [],
      "source": [
        "def train_vae(model, dataloader, epochs=50, lr=1e-3, plot_graph=True):\n",
        "    optimizer = optim.Adam(model.parameters(), lr=lr)\n",
        "    model.train()\n",
        "\n",
        "    loss_history = []\n",
        "    for epoch in tqdm(range(epochs)):\n",
        "        total_loss = 0\n",
        "        for batch in dataloader:\n",
        "            batch = batch.to(device)\n",
        "            optimizer.zero_grad()\n",
        "            recon_batch, mu, logvar = model(batch)\n",
        "            loss = vae_loss(recon_batch, batch, mu, logvar)\n",
        "            loss.backward()\n",
        "            optimizer.step()\n",
        "            total_loss += loss.item()\n",
        "        loss_history.append(total_loss / len(dataloader.dataset))\n",
        "        if epoch % 10 == 9:\n",
        "            clear_output(wait=True)\n",
        "            print(f'Epoch {epoch + 1}, Loss: {total_loss / len(dataloader.dataset):.4f}')\n",
        "            plt.plot(range(epoch+1), loss_history, label='VAE Loss')\n",
        "            plt.xlabel(\"Epoch\")\n",
        "            plt.ylabel(\"Loss\")\n",
        "            plt.title(\"VAE Training Loss\")\n",
        "            plt.legend()\n",
        "            plt.grid(True)\n",
        "            plt.show()"
      ]
    },
    {
      "cell_type": "code",
      "execution_count": 11,
      "metadata": {
        "id": "R2hxgZtM98fc"
      },
      "outputs": [],
      "source": [
        "def generate_music(model, num_samples=10):\n",
        "    model.eval()\n",
        "    with torch.no_grad():\n",
        "        z = torch.randn(num_samples, model.latent_dim).to(device)\n",
        "        samples = model.decode(z)\n",
        "        return samples.cpu().numpy()"
      ]
    },
    {
      "cell_type": "code",
      "execution_count": 12,
      "metadata": {
        "id": "7K-Ctr8m98yu"
      },
      "outputs": [],
      "source": [
        "data = np.load(\"bach_pianorolls.npy\")\n",
        "model = MusicVAE(input_dim=88, seq_len=1000)"
      ]
    },
    {
      "cell_type": "code",
      "execution_count": 13,
      "metadata": {
        "id": "xiLjwfXX-K2i"
      },
      "outputs": [],
      "source": [
        "device = torch.device(\"cuda\" if torch.cuda.is_available() else \"cpu\")"
      ]
    },
    {
      "cell_type": "code",
      "execution_count": 14,
      "metadata": {
        "id": "90bkDRxQ-AWn"
      },
      "outputs": [],
      "source": [
        "dataset = MusicDataset(data)\n",
        "dataloader = DataLoader(dataset, batch_size=32, shuffle=True)\n"
      ]
    },
    {
      "cell_type": "code",
      "execution_count": 15,
      "metadata": {
        "id": "gx1gnIp7-PDk"
      },
      "outputs": [],
      "source": [
        "model = model.to(device)"
      ]
    },
    {
      "cell_type": "code",
      "execution_count": 16,
      "metadata": {
        "colab": {
          "base_uri": "https://localhost:8080/",
          "height": 489,
          "referenced_widgets": [
            "a93f196dfbc14dd8a19cf22ec9cea4ba",
            "35887872176941759534fd2996a612fb",
            "87c2946315c442a29f2574c2cd1995f7",
            "44b8903499f64e7abe7ad38a47fddcf4",
            "a5d0846a3e7c49c5b59b668f32798dbc",
            "87fd820ccb074a489eb3d1cddf6919d2",
            "b87f0a02c8d34060b3221b29cba8bd2f",
            "6851b1b0aa2d46b093a0ea2ce3c5b3b8",
            "034f16a321734f0b81a243dcc403b0cb",
            "04441a1639f342a984edb6a017895c9d",
            "cf68814f4a464aabac4cf900003b5ddd"
          ]
        },
        "id": "u93r-Eak-Ils",
        "outputId": "9337d58a-57f4-4e94-b8a8-978bd2e1c2ac"
      },
      "outputs": [
        {
          "output_type": "stream",
          "name": "stdout",
          "text": [
            "Epoch 1000, Loss: 66.2924\n"
          ]
        },
        {
          "output_type": "display_data",
          "data": {
            "text/plain": [
              "<Figure size 640x480 with 1 Axes>"
            ],
            "image/png": "[encoded data removed]"
          },
          "metadata": {}
        }
      ],
      "source": [
        "train_vae(model, dataloader, epochs=1000)\n",
        "samples = generate_music(model)"
      ]
    },
    {
      "cell_type": "code",
      "execution_count": 17,
      "metadata": {
        "colab": {
          "base_uri": "https://localhost:8080/",
          "height": 452
        },
        "id": "PlwEwSab_Hkk",
        "outputId": "95cbce5c-1688-4597-d944-df48ee985f6d"
      },
      "outputs": [
        {
          "output_type": "display_data",
          "data": {
            "text/plain": [
              "<Figure size 640x480 with 1 Axes>"
            ],
            "image/png": "[encoded data removed]"
          },
          "metadata": {}
        }
      ],
      "source": [
        "from sklearn.manifold import TSNE\n",
        "import matplotlib.pyplot as plt\n",
        "\n",
        "model.eval()\n",
        "latents = []\n",
        "for x in dataloader:\n",
        "    x = x.to(device)\n",
        "    mu, _ = model.encode(x)\n",
        "    latents.append(mu.cpu().detach().numpy())\n",
        "latents = np.concatenate(latents)\n",
        "\n",
        "tsne = TSNE(n_components=2)\n",
        "embeddings = tsne.fit_transform(latents)\n",
        "plt.scatter(embeddings[:, 0], embeddings[:, 1])\n",
        "plt.title(\"Latent Space of VAE\")\n",
        "plt.show()"
      ]
    },
    {
      "cell_type": "code",
      "execution_count": 18,
      "metadata": {
        "id": "AscR4l28CKDS"
      },
      "outputs": [],
      "source": [
        "def pianoroll_to_midi(piano_roll, fs=8, program=0, pitch_range=(21, 109)):\n",
        "    pr = piano_roll.T  # (pitch, time)\n",
        "    midi = PrettyMIDI()\n",
        "    instrument = Instrument(program=program)\n",
        "    piano_roll_bin = (pr > 0.5).astype(np.int32)\n",
        "\n",
        "    for pitch in range(piano_roll_bin.shape[0]):\n",
        "        onsets = np.where(np.diff(np.pad(piano_roll_bin[pitch], (1, 1))) == 1)[0]\n",
        "        offsets = np.where(np.diff(np.pad(piano_roll_bin[pitch], (1, 1))) == -1)[0]\n",
        "        for onset, offset in zip(onsets, offsets):\n",
        "            start = onset / fs\n",
        "            end = offset / fs\n",
        "            note = Note(velocity=100, pitch=pitch + pitch_range[0], start=start, end=end)\n",
        "            instrument.notes.append(note)\n",
        "\n",
        "    midi.instruments.append(instrument)\n",
        "    return midi"
      ]
    },
    {
      "cell_type": "code",
      "execution_count": 20,
      "metadata": {
        "id": "KbpaTnu-BuAa"
      },
      "outputs": [],
      "source": [
        "samples = generate_music(model, num_samples=5)\n",
        "for i, roll in enumerate(samples):\n",
        "    midi = pianoroll_to_midi(roll)\n",
        "    midi.write(f\"vae_generated_{i}.mid\")"
      ]
    },
    {
      "cell_type": "markdown",
      "source": [
        "Music seems generally OK, but it features to many pauses, which kills the flow. To battle this, let's adjust loss and decoder architecture."
      ],
      "metadata": {
        "id": "RdrfvPFX_ZrV"
      }
    },
    {
      "cell_type": "code",
      "source": [
        "import torch\n",
        "import torch.nn as nn\n",
        "import torch.nn.functional as F\n",
        "import torch.optim as optim\n",
        "from tqdm import tqdm\n",
        "import matplotlib.pyplot as plt\n",
        "from IPython.display import clear_output\n",
        "\n",
        "device = torch.device(\"cuda\" if torch.cuda.is_available() else \"cpu\")\n",
        "\n",
        "\n",
        "class MusicVAE_UP(nn.Module):\n",
        "    def __init__(self, input_dim=128, hidden_dim=256, latent_dim=32, seq_len=100):\n",
        "        super(MusicVAE_UP, self).__init__()\n",
        "        self.seq_len = seq_len\n",
        "        self.input_dim = input_dim\n",
        "        self.latent_dim = latent_dim\n",
        "\n",
        "        # Encoder\n",
        "        self.encoder_cnn = nn.Sequential(\n",
        "            nn.Conv1d(in_channels=input_dim, out_channels=64, kernel_size=5, stride=1, padding=2),  # (B, 64, seq_len)\n",
        "            nn.ReLU(),\n",
        "            nn.Conv1d(64, 128, 3, padding=1),  # (B, 128, seq_len)\n",
        "            nn.ReLU()\n",
        "        )\n",
        "        self.encoder_rnn = nn.GRU(input_size=128, hidden_size=hidden_dim, batch_first=True, bidirectional=True)\n",
        "\n",
        "        self.fc_mu = nn.Linear(hidden_dim * 2, latent_dim)\n",
        "        self.fc_logvar = nn.Linear(hidden_dim * 2, latent_dim)\n",
        "\n",
        "        # Decoder (GRU-based)\n",
        "        self.decoder_rnn = nn.GRU(latent_dim, hidden_dim, batch_first=True)\n",
        "        self.output_layer = nn.Sequential(\n",
        "            nn.Linear(hidden_dim, input_dim),\n",
        "            nn.Sigmoid()\n",
        "        )\n",
        "\n",
        "    def encode(self, x):\n",
        "        x = x.transpose(1, 2)\n",
        "        x = self.encoder_cnn(x)\n",
        "        x = x.transpose(1, 2)\n",
        "        _, h_n = self.encoder_rnn(x)\n",
        "        h = torch.cat((h_n[0], h_n[1]), dim=-1)\n",
        "        return self.fc_mu(h), self.fc_logvar(h)\n",
        "\n",
        "    def reparameterize(self, mu, logvar):\n",
        "        std = torch.exp(0.5 * logvar)\n",
        "        eps = torch.randn_like(std)\n",
        "        return mu + eps * std\n",
        "\n",
        "    def decode(self, z):\n",
        "        # Expand latent vector across the sequence length\n",
        "        z_seq = z.unsqueeze(1).repeat(1, self.seq_len, 1)  # Shape: (batch, seq_len, latent_dim)\n",
        "        h_seq, _ = self.decoder_rnn(z_seq)\n",
        "        return self.output_layer(h_seq)  # Shape: (batch, seq_len, input_dim)\n",
        "\n",
        "    def forward(self, x):\n",
        "        mu, logvar = self.encode(x)\n",
        "        z = self.reparameterize(mu, logvar)\n",
        "        x_recon = self.decode(z)\n",
        "        return x_recon, mu, logvar\n"
      ],
      "metadata": {
        "id": "iOqxmfA3-JsS"
      },
      "execution_count": 45,
      "outputs": []
    },
    {
      "cell_type": "code",
      "source": [
        "def weighted_bce_kl_loss(recon_x, x, mu, logvar, pos_weight=10.0, kl_weight=1.0):\n",
        "    bce = F.binary_cross_entropy(recon_x, x, reduction='none')\n",
        "    weights = torch.where(x == 1, pos_weight, 1.0)\n",
        "    recon_loss = (bce * weights).sum()\n",
        "    kld = -0.5 * torch.sum(1 + logvar - mu.pow(2) - logvar.exp())\n",
        "    return recon_loss + kl_weight * kld"
      ],
      "metadata": {
        "id": "f-w0-zZl-NB-"
      },
      "execution_count": 46,
      "outputs": []
    },
    {
      "cell_type": "code",
      "source": [
        "def train_vae_UP(model, dataloader, epochs=50, lr=1e-3, plot_graph=True, pos_weight=10.0):\n",
        "    optimizer = optim.Adam(model.parameters(), lr=lr)\n",
        "    model.train()\n",
        "    model.to(device)\n",
        "\n",
        "    total_loss_history = []\n",
        "    recon_loss_history = []\n",
        "    kl_loss_history = []\n",
        "\n",
        "    for epoch in tqdm(range(epochs)):\n",
        "        total_loss = 0\n",
        "        total_recon_loss = 0\n",
        "        total_kl = 0\n",
        "\n",
        "        for batch in dataloader:\n",
        "            batch = batch.to(device)\n",
        "            optimizer.zero_grad()\n",
        "            recon_batch, mu, logvar = model(batch)\n",
        "\n",
        "            # KL annealing\n",
        "            kl_weight = min(5.0, epoch / 50.0)\n",
        "\n",
        "            # Weighted BCE loss\n",
        "            bce = F.binary_cross_entropy(recon_batch, batch, reduction='none')\n",
        "            weights = torch.where(batch == 1, pos_weight, 1.0)\n",
        "            recon_loss = (bce * weights).sum()\n",
        "            kl = -0.5 * (1 + logvar - mu.pow(2) - logvar.exp())\n",
        "            kl = torch.maximum(kl, torch.full_like(kl, 0.5)).sum()\n",
        "            loss = recon_loss + kl_weight * kl\n",
        "\n",
        "            loss.backward()\n",
        "            optimizer.step()\n",
        "\n",
        "            total_loss += loss.item()\n",
        "            total_recon_loss += recon_loss.item()\n",
        "            total_kl += kl.item()\n",
        "\n",
        "        total_loss_history.append(total_loss / len(dataloader.dataset))\n",
        "        recon_loss_history.append(total_recon_loss / len(dataloader.dataset))\n",
        "        kl_loss_history.append(total_kl / len(dataloader.dataset))\n",
        "\n",
        "        if plot_graph and epoch % 10 == 9:\n",
        "            clear_output(wait=True)\n",
        "            print(f\"Epoch {epoch + 1} | Recon Loss: {total_recon_loss:.2f} | KL: {total_kl:.2f} | KL Weight: {kl_weight:.2f}\")\n",
        "\n",
        "            fig, axs = plt.subplots(2, 1, figsize=(10, 8), sharex=True)\n",
        "            axs[0].plot(range(1, epoch + 2), recon_loss_history, label='Reconstruction Loss', color='blue')\n",
        "            axs[0].set_ylabel(\"Reconstruction Loss\")\n",
        "            axs[0].legend()\n",
        "            axs[0].grid(True)\n",
        "\n",
        "            axs[1].plot(range(1, epoch + 2), kl_loss_history, label='KL Divergence', color='red')\n",
        "            axs[1].set_xlabel(\"Epoch\")\n",
        "            axs[1].set_ylabel(\"KL Divergence\")\n",
        "            axs[1].legend()\n",
        "            axs[1].grid(True)\n",
        "\n",
        "            plt.suptitle(\"VAE Loss Components Over Epochs\")\n",
        "            plt.tight_layout()\n",
        "            plt.show()\n",
        "\n"
      ],
      "metadata": {
        "id": "4sxU05Vp-PWt"
      },
      "execution_count": 47,
      "outputs": []
    },
    {
      "cell_type": "code",
      "source": [
        "model = MusicVAE_UP(input_dim=88, seq_len=1000).to(device)"
      ],
      "metadata": {
        "id": "fEz88zqZ-Tqd"
      },
      "execution_count": 48,
      "outputs": []
    },
    {
      "cell_type": "code",
      "source": [
        "train_vae_UP(model, dataloader, epochs=1000)"
      ],
      "metadata": {
        "colab": {
          "base_uri": "https://localhost:8080/",
          "height": 841
        },
        "id": "hAd74Rpg-y8j",
        "outputId": "7aea249a-236f-41bb-c879-510ea41404ff"
      },
      "execution_count": 49,
      "outputs": [
        {
          "output_type": "stream",
          "name": "stdout",
          "text": [
            "Epoch 1000 | Recon Loss: 1339252.21 | KL: 2284.98 | KL Weight: 5.00\n"
          ]
        },
        {
          "output_type": "display_data",
          "data": {
            "text/plain": [
              "<Figure size 1000x800 with 2 Axes>"
            ],
            "image/png": "[encoded data removed]"
          },
          "metadata": {}
        },
        {
          "output_type": "stream",
          "name": "stderr",
          "text": [
            "100%|██████████| 1000/1000 [05:37<00:00,  2.96it/s]\n"
          ]
        }
      ]
    },
    {
      "cell_type": "code",
      "source": [
        "from sklearn.manifold import TSNE\n",
        "import matplotlib.pyplot as plt\n",
        "\n",
        "model.eval()\n",
        "latents = []\n",
        "for x in dataloader:\n",
        "    x = x.to(device)\n",
        "    mu, _ = model.encode(x)\n",
        "    latents.append(mu.cpu().detach().numpy())\n",
        "latents = np.concatenate(latents)\n",
        "\n",
        "tsne = TSNE(n_components=2)\n",
        "embeddings = tsne.fit_transform(latents)\n",
        "plt.scatter(embeddings[:, 0], embeddings[:, 1])\n",
        "plt.title(\"Latent Space of VAE_UP\")\n",
        "plt.show()"
      ],
      "metadata": {
        "colab": {
          "base_uri": "https://localhost:8080/",
          "height": 452
        },
        "id": "F9okdAor_poo",
        "outputId": "294202cb-da9b-4e3c-e17a-be4e25ed525d"
      },
      "execution_count": 50,
      "outputs": [
        {
          "output_type": "display_data",
          "data": {
            "text/plain": [
              "<Figure size 640x480 with 1 Axes>"
            ],
            "image/png": "[encoded data removed]"
          },
          "metadata": {}
        }
      ]
    },
    {
      "cell_type": "code",
      "source": [
        "samples = generate_music(model, num_samples=5)\n",
        "for i, roll in enumerate(samples):\n",
        "    midi = pianoroll_to_midi(roll)\n",
        "    midi.write(f\"vae_up_generated_{i}.mid\")"
      ],
      "metadata": {
        "id": "wWprwSBq_tqM"
      },
      "execution_count": 51,
      "outputs": []
    },
    {
      "cell_type": "markdown",
      "source": [
        "Decoder too strong, now model basically ignores the latent space and generates almost empty files :)"
      ],
      "metadata": {
        "id": "CjmAHebPHSkd"
      }
    },
    {
      "cell_type": "code",
      "source": [
        "import torch\n",
        "import torch.nn as nn\n",
        "import torch.nn.functional as F\n",
        "import torch.optim as optim\n",
        "from tqdm import tqdm\n",
        "import matplotlib.pyplot as plt\n",
        "from IPython.display import clear_output\n",
        "\n",
        "device = torch.device(\"cuda\" if torch.cuda.is_available() else \"cpu\")\n",
        "\n",
        "\n",
        "class MusicVAE_UP(nn.Module):\n",
        "    def __init__(self, input_dim=128, hidden_dim=256, latent_dim=32, seq_len=100):\n",
        "        super(MusicVAE_UP, self).__init__()\n",
        "        self.seq_len = seq_len\n",
        "        self.input_dim = input_dim\n",
        "        self.latent_dim = latent_dim\n",
        "\n",
        "        # Encoder\n",
        "        self.encoder_cnn = nn.Sequential(\n",
        "            nn.Conv1d(in_channels=input_dim, out_channels=64, kernel_size=5, stride=1, padding=2),  # (B, 64, seq_len)\n",
        "            nn.ReLU(),\n",
        "            nn.Conv1d(64, 128, 3, padding=1),  # (B, 128, seq_len)\n",
        "            nn.ReLU()\n",
        "        )\n",
        "        self.encoder_rnn = nn.GRU(input_size=128, hidden_size=hidden_dim, batch_first=True, bidirectional=True)\n",
        "\n",
        "        self.fc_mu = nn.Linear(hidden_dim * 2, latent_dim)\n",
        "        self.fc_logvar = nn.Linear(hidden_dim * 2, latent_dim)\n",
        "\n",
        "        self.decoder_mlp = nn.Sequential(\n",
        "          nn.Linear(latent_dim, 512),\n",
        "          nn.ReLU(),\n",
        "          nn.Linear(512, self.seq_len * self.input_dim),\n",
        "          nn.Sigmoid()\n",
        "      )\n",
        "\n",
        "    def encode(self, x):\n",
        "        x = x.transpose(1, 2)\n",
        "        x = self.encoder_cnn(x)\n",
        "        x = x.transpose(1, 2)\n",
        "        _, h_n = self.encoder_rnn(x)\n",
        "        h = torch.cat((h_n[0], h_n[1]), dim=-1)\n",
        "        return self.fc_mu(h), self.fc_logvar(h)\n",
        "\n",
        "    def reparameterize(self, mu, logvar):\n",
        "        std = torch.exp(0.5 * logvar)\n",
        "        eps = torch.randn_like(std)\n",
        "        return mu + eps * std\n",
        "\n",
        "    def decode(self, z):\n",
        "        out = self.decoder_mlp(z)\n",
        "        return out.view(-1, self.seq_len, self.input_dim)\n",
        "\n",
        "    def forward(self, x):\n",
        "        mu, logvar = self.encode(x)\n",
        "        z = self.reparameterize(mu, logvar)\n",
        "        x_recon = self.decode(z)\n",
        "        return x_recon, mu, logvar\n"
      ],
      "metadata": {
        "id": "OOwUyfyo1JxW"
      },
      "execution_count": 55,
      "outputs": []
    },
    {
      "cell_type": "code",
      "source": [
        "model = MusicVAE_UP(input_dim=88, seq_len=1000).to(device)"
      ],
      "metadata": {
        "id": "KRdQSG7jIiYB"
      },
      "execution_count": 56,
      "outputs": []
    },
    {
      "cell_type": "code",
      "source": [
        "train_vae_UP(model, dataloader, epochs=1000)"
      ],
      "metadata": {
        "colab": {
          "base_uri": "https://localhost:8080/",
          "height": 841
        },
        "id": "0BHFF3sLIka-",
        "outputId": "f6dc5e6a-59dd-4e70-dfa2-363b3898d904"
      },
      "execution_count": 57,
      "outputs": [
        {
          "output_type": "stream",
          "name": "stdout",
          "text": [
            "Epoch 1000 | Recon Loss: 4098.90 | KL: 3757.01 | KL Weight: 5.00\n"
          ]
        },
        {
          "output_type": "display_data",
          "data": {
            "text/plain": [
              "<Figure size 1000x800 with 2 Axes>"
            ],
            "image/png": "[encoded data removed]"
          },
          "metadata": {}
        },
        {
          "output_type": "stream",
          "name": "stderr",
          "text": [
            "100%|██████████| 1000/1000 [04:25<00:00,  3.76it/s]\n"
          ]
        }
      ]
    },
    {
      "cell_type": "code",
      "source": [
        "from sklearn.manifold import TSNE\n",
        "import matplotlib.pyplot as plt\n",
        "\n",
        "model.eval()\n",
        "latents = []\n",
        "for x in dataloader:\n",
        "    x = x.to(device)\n",
        "    mu, _ = model.encode(x)\n",
        "    latents.append(mu.cpu().detach().numpy())\n",
        "latents = np.concatenate(latents)\n",
        "\n",
        "tsne = TSNE(n_components=2)\n",
        "embeddings = tsne.fit_transform(latents)\n",
        "plt.scatter(embeddings[:, 0], embeddings[:, 1])\n",
        "plt.title(\"Latent Space of VAE_UP\")\n",
        "plt.show()"
      ],
      "metadata": {
        "colab": {
          "base_uri": "https://localhost:8080/",
          "height": 452
        },
        "id": "STPHVweULGCk",
        "outputId": "263433c9-a190-471d-ed03-789aa72b6fec"
      },
      "execution_count": 58,
      "outputs": [
        {
          "output_type": "display_data",
          "data": {
            "text/plain": [
              "<Figure size 640x480 with 1 Axes>"
            ],
            "image/png": "[encoded data removed]"
          },
          "metadata": {}
        }
      ]
    },
    {
      "cell_type": "code",
      "source": [
        "samples = generate_music(model, num_samples=5)\n",
        "for i, roll in enumerate(samples):\n",
        "    midi = pianoroll_to_midi(roll)\n",
        "    midi.write(f\"vae_up_down_generated_{i}.mid\")"
      ],
      "metadata": {
        "id": "hSvZtnJiLImU"
      },
      "execution_count": 59,
      "outputs": []
    },
    {
      "cell_type": "markdown",
      "source": [
        "Results are much better, now it doesn't suffer from abruptive pauses"
      ],
      "metadata": {
        "id": "FZKEKv4ZPfGt"
      }
    }
  ],
  "metadata": {
    "colab": {
      "provenance": [],
      "gpuType": "T4"
    },
    "kernelspec": {
      "display_name": "Python 3",
      "name": "python3"
    },
    "language_info": {
      "name": "python"
    },
    "widgets": {
      "application/vnd.jupyter.widget-state+json": {
        "dd9ae4f7db1f4f8880c4246b938d8a5d": {
          "model_module": "@jupyter-widgets/controls",
          "model_name": "HBoxModel",
          "model_module_version": "1.5.0",
          "state": {
            "_dom_classes": [],
            "_model_module": "@jupyter-widgets/controls",
            "_model_module_version": "1.5.0",
            "_model_name": "HBoxModel",
            "_view_count": null,
            "_view_module": "@jupyter-widgets/controls",
            "_view_module_version": "1.5.0",
            "_view_name": "HBoxView",
            "box_style": "",
            "children": [
              "IPY_MODEL_6202f01c7064467784d4c9ef029af032",
              "IPY_MODEL_cf72df35f59e41b88a87e3787413631d",
              "IPY_MODEL_44a4fcd46cbe4b85be5f8a66c08221a4"
            ],
            "layout": "IPY_MODEL_deead7d28469474498f85c7a90c19b9b"
          }
        },
        "6202f01c7064467784d4c9ef029af032": {
          "model_module": "@jupyter-widgets/controls",
          "model_name": "HTMLModel",
          "model_module_version": "1.5.0",
          "state": {
            "_dom_classes": [],
            "_model_module": "@jupyter-widgets/controls",
            "_model_module_version": "1.5.0",
            "_model_name": "HTMLModel",
            "_view_count": null,
            "_view_module": "@jupyter-widgets/controls",
            "_view_module_version": "1.5.0",
            "_view_name": "HTMLView",
            "description": "",
            "description_tooltip": null,
            "layout": "IPY_MODEL_d545ebab90694ef89dce86b664dcf281",
            "placeholder": "​",
            "style": "IPY_MODEL_0795769fa964411bb9405ff67e22b065",
            "value": "100%"
          }
        },
        "cf72df35f59e41b88a87e3787413631d": {
          "model_module": "@jupyter-widgets/controls",
          "model_name": "FloatProgressModel",
          "model_module_version": "1.5.0",
          "state": {
            "_dom_classes": [],
            "_model_module": "@jupyter-widgets/controls",
            "_model_module_version": "1.5.0",
            "_model_name": "FloatProgressModel",
            "_view_count": null,
            "_view_module": "@jupyter-widgets/controls",
            "_view_module_version": "1.5.0",
            "_view_name": "ProgressView",
            "bar_style": "success",
            "description": "",
            "description_tooltip": null,
            "layout": "IPY_MODEL_984e34ae1307486db371b485bffe81f7",
            "max": 67,
            "min": 0,
            "orientation": "horizontal",
            "style": "IPY_MODEL_e5f6022b8e694c7fa821617a0314d82b",
            "value": 67
          }
        },
        "44a4fcd46cbe4b85be5f8a66c08221a4": {
          "model_module": "@jupyter-widgets/controls",
          "model_name": "HTMLModel",
          "model_module_version": "1.5.0",
          "state": {
            "_dom_classes": [],
            "_model_module": "@jupyter-widgets/controls",
            "_model_module_version": "1.5.0",
            "_model_name": "HTMLModel",
            "_view_count": null,
            "_view_module": "@jupyter-widgets/controls",
            "_view_module_version": "1.5.0",
            "_view_name": "HTMLView",
            "description": "",
            "description_tooltip": null,
            "layout": "IPY_MODEL_c66adace21f042d89667b3ad78224f02",
            "placeholder": "​",
            "style": "IPY_MODEL_dd019b584d9b45ca982b9cbf15592934",
            "value": " 67/67 [00:26&lt;00:00,  2.63it/s]"
          }
        },
        "deead7d28469474498f85c7a90c19b9b": {
          "model_module": "@jupyter-widgets/base",
          "model_name": "LayoutModel",
          "model_module_version": "1.2.0",
          "state": {
            "_model_module": "@jupyter-widgets/base",
            "_model_module_version": "1.2.0",
            "_model_name": "LayoutModel",
            "_view_count": null,
            "_view_module": "@jupyter-widgets/base",
            "_view_module_version": "1.2.0",
            "_view_name": "LayoutView",
            "align_content": null,
            "align_items": null,
            "align_self": null,
            "border": null,
            "bottom": null,
            "display": null,
            "flex": null,
            "flex_flow": null,
            "grid_area": null,
            "grid_auto_columns": null,
            "grid_auto_flow": null,
            "grid_auto_rows": null,
            "grid_column": null,
            "grid_gap": null,
            "grid_row": null,
            "grid_template_areas": null,
            "grid_template_columns": null,
            "grid_template_rows": null,
            "height": null,
            "justify_content": null,
            "justify_items": null,
            "left": null,
            "margin": null,
            "max_height": null,
            "max_width": null,
            "min_height": null,
            "min_width": null,
            "object_fit": null,
            "object_position": null,
            "order": null,
            "overflow": null,
            "overflow_x": null,
            "overflow_y": null,
            "padding": null,
            "right": null,
            "top": null,
            "visibility": null,
            "width": null
          }
        },
        "d545ebab90694ef89dce86b664dcf281": {
          "model_module": "@jupyter-widgets/base",
          "model_name": "LayoutModel",
          "model_module_version": "1.2.0",
          "state": {
            "_model_module": "@jupyter-widgets/base",
            "_model_module_version": "1.2.0",
            "_model_name": "LayoutModel",
            "_view_count": null,
            "_view_module": "@jupyter-widgets/base",
            "_view_module_version": "1.2.0",
            "_view_name": "LayoutView",
            "align_content": null,
            "align_items": null,
            "align_self": null,
            "border": null,
            "bottom": null,
            "display": null,
            "flex": null,
            "flex_flow": null,
            "grid_area": null,
            "grid_auto_columns": null,
            "grid_auto_flow": null,
            "grid_auto_rows": null,
            "grid_column": null,
            "grid_gap": null,
            "grid_row": null,
            "grid_template_areas": null,
            "grid_template_columns": null,
            "grid_template_rows": null,
            "height": null,
            "justify_content": null,
            "justify_items": null,
            "left": null,
            "margin": null,
            "max_height": null,
            "max_width": null,
            "min_height": null,
            "min_width": null,
            "object_fit": null,
            "object_position": null,
            "order": null,
            "overflow": null,
            "overflow_x": null,
            "overflow_y": null,
            "padding": null,
            "right": null,
            "top": null,
            "visibility": null,
            "width": null
          }
        },
        "0795769fa964411bb9405ff67e22b065": {
          "model_module": "@jupyter-widgets/controls",
          "model_name": "DescriptionStyleModel",
          "model_module_version": "1.5.0",
          "state": {
            "_model_module": "@jupyter-widgets/controls",
            "_model_module_version": "1.5.0",
            "_model_name": "DescriptionStyleModel",
            "_view_count": null,
            "_view_module": "@jupyter-widgets/base",
            "_view_module_version": "1.2.0",
            "_view_name": "StyleView",
            "description_width": ""
          }
        },
        "984e34ae1307486db371b485bffe81f7": {
          "model_module": "@jupyter-widgets/base",
          "model_name": "LayoutModel",
          "model_module_version": "1.2.0",
          "state": {
            "_model_module": "@jupyter-widgets/base",
            "_model_module_version": "1.2.0",
            "_model_name": "LayoutModel",
            "_view_count": null,
            "_view_module": "@jupyter-widgets/base",
            "_view_module_version": "1.2.0",
            "_view_name": "LayoutView",
            "align_content": null,
            "align_items": null,
            "align_self": null,
            "border": null,
            "bottom": null,
            "display": null,
            "flex": null,
            "flex_flow": null,
            "grid_area": null,
            "grid_auto_columns": null,
            "grid_auto_flow": null,
            "grid_auto_rows": null,
            "grid_column": null,
            "grid_gap": null,
            "grid_row": null,
            "grid_template_areas": null,
            "grid_template_columns": null,
            "grid_template_rows": null,
            "height": null,
            "justify_content": null,
            "justify_items": null,
            "left": null,
            "margin": null,
            "max_height": null,
            "max_width": null,
            "min_height": null,
            "min_width": null,
            "object_fit": null,
            "object_position": null,
            "order": null,
            "overflow": null,
            "overflow_x": null,
            "overflow_y": null,
            "padding": null,
            "right": null,
            "top": null,
            "visibility": null,
            "width": null
          }
        },
        "e5f6022b8e694c7fa821617a0314d82b": {
          "model_module": "@jupyter-widgets/controls",
          "model_name": "ProgressStyleModel",
          "model_module_version": "1.5.0",
          "state": {
            "_model_module": "@jupyter-widgets/controls",
            "_model_module_version": "1.5.0",
            "_model_name": "ProgressStyleModel",
            "_view_count": null,
            "_view_module": "@jupyter-widgets/base",
            "_view_module_version": "1.2.0",
            "_view_name": "StyleView",
            "bar_color": null,
            "description_width": ""
          }
        },
        "c66adace21f042d89667b3ad78224f02": {
          "model_module": "@jupyter-widgets/base",
          "model_name": "LayoutModel",
          "model_module_version": "1.2.0",
          "state": {
            "_model_module": "@jupyter-widgets/base",
            "_model_module_version": "1.2.0",
            "_model_name": "LayoutModel",
            "_view_count": null,
            "_view_module": "@jupyter-widgets/base",
            "_view_module_version": "1.2.0",
            "_view_name": "LayoutView",
            "align_content": null,
            "align_items": null,
            "align_self": null,
            "border": null,
            "bottom": null,
            "display": null,
            "flex": null,
            "flex_flow": null,
            "grid_area": null,
            "grid_auto_columns": null,
            "grid_auto_flow": null,
            "grid_auto_rows": null,
            "grid_column": null,
            "grid_gap": null,
            "grid_row": null,
            "grid_template_areas": null,
            "grid_template_columns": null,
            "grid_template_rows": null,
            "height": null,
            "justify_content": null,
            "justify_items": null,
            "left": null,
            "margin": null,
            "max_height": null,
            "max_width": null,
            "min_height": null,
            "min_width": null,
            "object_fit": null,
            "object_position": null,
            "order": null,
            "overflow": null,
            "overflow_x": null,
            "overflow_y": null,
            "padding": null,
            "right": null,
            "top": null,
            "visibility": null,
            "width": null
          }
        },
        "dd019b584d9b45ca982b9cbf15592934": {
          "model_module": "@jupyter-widgets/controls",
          "model_name": "DescriptionStyleModel",
          "model_module_version": "1.5.0",
          "state": {
            "_model_module": "@jupyter-widgets/controls",
            "_model_module_version": "1.5.0",
            "_model_name": "DescriptionStyleModel",
            "_view_count": null,
            "_view_module": "@jupyter-widgets/base",
            "_view_module_version": "1.2.0",
            "_view_name": "StyleView",
            "description_width": ""
          }
        },
        "a93f196dfbc14dd8a19cf22ec9cea4ba": {
          "model_module": "@jupyter-widgets/controls",
          "model_name": "HBoxModel",
          "model_module_version": "1.5.0",
          "state": {
            "_dom_classes": [],
            "_model_module": "@jupyter-widgets/controls",
            "_model_module_version": "1.5.0",
            "_model_name": "HBoxModel",
            "_view_count": null,
            "_view_module": "@jupyter-widgets/controls",
            "_view_module_version": "1.5.0",
            "_view_name": "HBoxView",
            "box_style": "",
            "children": [
              "IPY_MODEL_35887872176941759534fd2996a612fb",
              "IPY_MODEL_87c2946315c442a29f2574c2cd1995f7",
              "IPY_MODEL_44b8903499f64e7abe7ad38a47fddcf4"
            ],
            "layout": "IPY_MODEL_a5d0846a3e7c49c5b59b668f32798dbc"
          }
        },
        "35887872176941759534fd2996a612fb": {
          "model_module": "@jupyter-widgets/controls",
          "model_name": "HTMLModel",
          "model_module_version": "1.5.0",
          "state": {
            "_dom_classes": [],
            "_model_module": "@jupyter-widgets/controls",
            "_model_module_version": "1.5.0",
            "_model_name": "HTMLModel",
            "_view_count": null,
            "_view_module": "@jupyter-widgets/controls",
            "_view_module_version": "1.5.0",
            "_view_name": "HTMLView",
            "description": "",
            "description_tooltip": null,
            "layout": "IPY_MODEL_87fd820ccb074a489eb3d1cddf6919d2",
            "placeholder": "​",
            "style": "IPY_MODEL_b87f0a02c8d34060b3221b29cba8bd2f",
            "value": "100%"
          }
        },
        "87c2946315c442a29f2574c2cd1995f7": {
          "model_module": "@jupyter-widgets/controls",
          "model_name": "FloatProgressModel",
          "model_module_version": "1.5.0",
          "state": {
            "_dom_classes": [],
            "_model_module": "@jupyter-widgets/controls",
            "_model_module_version": "1.5.0",
            "_model_name": "FloatProgressModel",
            "_view_count": null,
            "_view_module": "@jupyter-widgets/controls",
            "_view_module_version": "1.5.0",
            "_view_name": "ProgressView",
            "bar_style": "success",
            "description": "",
            "description_tooltip": null,
            "layout": "IPY_MODEL_6851b1b0aa2d46b093a0ea2ce3c5b3b8",
            "max": 1000,
            "min": 0,
            "orientation": "horizontal",
            "style": "IPY_MODEL_034f16a321734f0b81a243dcc403b0cb",
            "value": 1000
          }
        },
        "44b8903499f64e7abe7ad38a47fddcf4": {
          "model_module": "@jupyter-widgets/controls",
          "model_name": "HTMLModel",
          "model_module_version": "1.5.0",
          "state": {
            "_dom_classes": [],
            "_model_module": "@jupyter-widgets/controls",
            "_model_module_version": "1.5.0",
            "_model_name": "HTMLModel",
            "_view_count": null,
            "_view_module": "@jupyter-widgets/controls",
            "_view_module_version": "1.5.0",
            "_view_name": "HTMLView",
            "description": "",
            "description_tooltip": null,
            "layout": "IPY_MODEL_04441a1639f342a984edb6a017895c9d",
            "placeholder": "​",
            "style": "IPY_MODEL_cf68814f4a464aabac4cf900003b5ddd",
            "value": " 1000/1000 [01:19&lt;00:00, 14.35it/s]"
          }
        },
        "a5d0846a3e7c49c5b59b668f32798dbc": {
          "model_module": "@jupyter-widgets/base",
          "model_name": "LayoutModel",
          "model_module_version": "1.2.0",
          "state": {
            "_model_module": "@jupyter-widgets/base",
            "_model_module_version": "1.2.0",
            "_model_name": "LayoutModel",
            "_view_count": null,
            "_view_module": "@jupyter-widgets/base",
            "_view_module_version": "1.2.0",
            "_view_name": "LayoutView",
            "align_content": null,
            "align_items": null,
            "align_self": null,
            "border": null,
            "bottom": null,
            "display": null,
            "flex": null,
            "flex_flow": null,
            "grid_area": null,
            "grid_auto_columns": null,
            "grid_auto_flow": null,
            "grid_auto_rows": null,
            "grid_column": null,
            "grid_gap": null,
            "grid_row": null,
            "grid_template_areas": null,
            "grid_template_columns": null,
            "grid_template_rows": null,
            "height": null,
            "justify_content": null,
            "justify_items": null,
            "left": null,
            "margin": null,
            "max_height": null,
            "max_width": null,
            "min_height": null,
            "min_width": null,
            "object_fit": null,
            "object_position": null,
            "order": null,
            "overflow": null,
            "overflow_x": null,
            "overflow_y": null,
            "padding": null,
            "right": null,
            "top": null,
            "visibility": null,
            "width": null
          }
        },
        "87fd820ccb074a489eb3d1cddf6919d2": {
          "model_module": "@jupyter-widgets/base",
          "model_name": "LayoutModel",
          "model_module_version": "1.2.0",
          "state": {
            "_model_module": "@jupyter-widgets/base",
            "_model_module_version": "1.2.0",
            "_model_name": "LayoutModel",
            "_view_count": null,
            "_view_module": "@jupyter-widgets/base",
            "_view_module_version": "1.2.0",
            "_view_name": "LayoutView",
            "align_content": null,
            "align_items": null,
            "align_self": null,
            "border": null,
            "bottom": null,
            "display": null,
            "flex": null,
            "flex_flow": null,
            "grid_area": null,
            "grid_auto_columns": null,
            "grid_auto_flow": null,
            "grid_auto_rows": null,
            "grid_column": null,
            "grid_gap": null,
            "grid_row": null,
            "grid_template_areas": null,
            "grid_template_columns": null,
            "grid_template_rows": null,
            "height": null,
            "justify_content": null,
            "justify_items": null,
            "left": null,
            "margin": null,
            "max_height": null,
            "max_width": null,
            "min_height": null,
            "min_width": null,
            "object_fit": null,
            "object_position": null,
            "order": null,
            "overflow": null,
            "overflow_x": null,
            "overflow_y": null,
            "padding": null,
            "right": null,
            "top": null,
            "visibility": null,
            "width": null
          }
        },
        "b87f0a02c8d34060b3221b29cba8bd2f": {
          "model_module": "@jupyter-widgets/controls",
          "model_name": "DescriptionStyleModel",
          "model_module_version": "1.5.0",
          "state": {
            "_model_module": "@jupyter-widgets/controls",
            "_model_module_version": "1.5.0",
            "_model_name": "DescriptionStyleModel",
            "_view_count": null,
            "_view_module": "@jupyter-widgets/base",
            "_view_module_version": "1.2.0",
            "_view_name": "StyleView",
            "description_width": ""
          }
        },
        "6851b1b0aa2d46b093a0ea2ce3c5b3b8": {
          "model_module": "@jupyter-widgets/base",
          "model_name": "LayoutModel",
          "model_module_version": "1.2.0",
          "state": {
            "_model_module": "@jupyter-widgets/base",
            "_model_module_version": "1.2.0",
            "_model_name": "LayoutModel",
            "_view_count": null,
            "_view_module": "@jupyter-widgets/base",
            "_view_module_version": "1.2.0",
            "_view_name": "LayoutView",
            "align_content": null,
            "align_items": null,
            "align_self": null,
            "border": null,
            "bottom": null,
            "display": null,
            "flex": null,
            "flex_flow": null,
            "grid_area": null,
            "grid_auto_columns": null,
            "grid_auto_flow": null,
            "grid_auto_rows": null,
            "grid_column": null,
            "grid_gap": null,
            "grid_row": null,
            "grid_template_areas": null,
            "grid_template_columns": null,
            "grid_template_rows": null,
            "height": null,
            "justify_content": null,
            "justify_items": null,
            "left": null,
            "margin": null,
            "max_height": null,
            "max_width": null,
            "min_height": null,
            "min_width": null,
            "object_fit": null,
            "object_position": null,
            "order": null,
            "overflow": null,
            "overflow_x": null,
            "overflow_y": null,
            "padding": null,
            "right": null,
            "top": null,
            "visibility": null,
            "width": null
          }
        },
        "034f16a321734f0b81a243dcc403b0cb": {
          "model_module": "@jupyter-widgets/controls",
          "model_name": "ProgressStyleModel",
          "model_module_version": "1.5.0",
          "state": {
            "_model_module": "@jupyter-widgets/controls",
            "_model_module_version": "1.5.0",
            "_model_name": "ProgressStyleModel",
            "_view_count": null,
            "_view_module": "@jupyter-widgets/base",
            "_view_module_version": "1.2.0",
            "_view_name": "StyleView",
            "bar_color": null,
            "description_width": ""
          }
        },
        "04441a1639f342a984edb6a017895c9d": {
          "model_module": "@jupyter-widgets/base",
          "model_name": "LayoutModel",
          "model_module_version": "1.2.0",
          "state": {
            "_model_module": "@jupyter-widgets/base",
            "_model_module_version": "1.2.0",
            "_model_name": "LayoutModel",
            "_view_count": null,
            "_view_module": "@jupyter-widgets/base",
            "_view_module_version": "1.2.0",
            "_view_name": "LayoutView",
            "align_content": null,
            "align_items": null,
            "align_self": null,
            "border": null,
            "bottom": null,
            "display": null,
            "flex": null,
            "flex_flow": null,
            "grid_area": null,
            "grid_auto_columns": null,
            "grid_auto_flow": null,
            "grid_auto_rows": null,
            "grid_column": null,
            "grid_gap": null,
            "grid_row": null,
            "grid_template_areas": null,
            "grid_template_columns": null,
            "grid_template_rows": null,
            "height": null,
            "justify_content": null,
            "justify_items": null,
            "left": null,
            "margin": null,
            "max_height": null,
            "max_width": null,
            "min_height": null,
            "min_width": null,
            "object_fit": null,
            "object_position": null,
            "order": null,
            "overflow": null,
            "overflow_x": null,
            "overflow_y": null,
            "padding": null,
            "right": null,
            "top": null,
            "visibility": null,
            "width": null
          }
        },
        "cf68814f4a464aabac4cf900003b5ddd": {
          "model_module": "@jupyter-widgets/controls",
          "model_name": "DescriptionStyleModel",
          "model_module_version": "1.5.0",
          "state": {
            "_model_module": "@jupyter-widgets/controls",
            "_model_module_version": "1.5.0",
            "_model_name": "DescriptionStyleModel",
            "_view_count": null,
            "_view_module": "@jupyter-widgets/base",
            "_view_module_version": "1.2.0",
            "_view_name": "StyleView",
            "description_width": ""
          }
        }
      }
    },
    "accelerator": "GPU"
  },
  "nbformat": 4,
  "nbformat_minor": 0
}